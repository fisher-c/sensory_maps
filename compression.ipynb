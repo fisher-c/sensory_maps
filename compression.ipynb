{
 "cells": [
  {
   "cell_type": "code",
   "execution_count": 1,
   "metadata": {},
   "outputs": [],
   "source": [
    "from PIL import Image\n",
    "from PIL.ExifTags import TAGS, GPSTAGS"
   ]
  },
  {
   "cell_type": "code",
   "execution_count": 12,
   "metadata": {},
   "outputs": [],
   "source": [
    "#pip install moviepy"
   ]
  },
  {
   "cell_type": "markdown",
   "metadata": {},
   "source": [
    "#### Convert .heic to .jpg:\n",
    "\n",
    "mogrify -monitor -format jpg *.HEIC\n",
    "\n",
    "\n",
    "#### To get long and lat, and creation date, in the folder, run:\n",
    "\n",
    "exiftool -r -gpslatitude -gpslongitude -n -DateTimeOriginal -ext jpg . > output.txt\n"
   ]
  },
  {
   "cell_type": "code",
   "execution_count": 9,
   "metadata": {},
   "outputs": [],
   "source": [
    "from PIL import Image\n",
    "\n",
    "def resize_image(input_path, output_path, max_size):\n",
    "    \"\"\"\n",
    "    Resizes an image maintaining the aspect ratio.\n",
    "    \n",
    "    Parameters:\n",
    "        - input_path (str): Path to the original image.\n",
    "        - output_path (str): Path to save the resized image.\n",
    "        - max_size (tuple): Desired size (width, height).\n",
    "    \"\"\"\n",
    "    \n",
    "    with Image.open(input_path) as img:\n",
    "        img.thumbnail(max_size)  # This resizes the image maintaining the aspect ratio\n",
    "        img.save(output_path, \"JPEG\", quality=85, exif=img.info['exif'])  # Save the image with the original Exif data\n",
    "\n",
    "# Example usage:\n",
    "# resize_image('./photos/IMG_7960.jpg', './photos/resized_IMG_7960.jpg', (400, 400))\n"
   ]
  },
  {
   "cell_type": "code",
   "execution_count": 10,
   "metadata": {},
   "outputs": [],
   "source": [
    "import os\n",
    "\n",
    "input_directory = './photos'\n",
    "output_directory = './resized_photos'\n",
    "\n",
    "# Create the output directory if it doesn't exist\n",
    "os.makedirs(output_directory, exist_ok=True)\n",
    "\n",
    "# Iterate over all images in the directory\n",
    "for filename in os.listdir(input_directory):\n",
    "    if filename.endswith('.jpg'):  # Adjust if you have other formats\n",
    "        input_path = os.path.join(input_directory, filename)\n",
    "        output_path = os.path.join(output_directory, filename)\n",
    "        \n",
    "        resize_image(input_path, output_path, (400, 400))"
   ]
  },
  {
   "cell_type": "code",
   "execution_count": 1,
   "metadata": {},
   "outputs": [
    {
     "name": "stdout",
     "output_type": "stream",
     "text": [
      "Moviepy - Building video ./resized_videos/IMG_0283.MOV.\n",
      "MoviePy - Writing audio in IMG_0283TEMP_MPY_wvf_snd.mp4\n"
     ]
    },
    {
     "name": "stderr",
     "output_type": "stream",
     "text": [
      "                                                                    \r"
     ]
    },
    {
     "name": "stdout",
     "output_type": "stream",
     "text": [
      "MoviePy - Done.\n",
      "Moviepy - Writing video ./resized_videos/IMG_0283.MOV\n",
      "\n"
     ]
    },
    {
     "name": "stderr",
     "output_type": "stream",
     "text": [
      "                                                                \r"
     ]
    },
    {
     "name": "stdout",
     "output_type": "stream",
     "text": [
      "Moviepy - Done !\n",
      "Moviepy - video ready ./resized_videos/IMG_0283.MOV\n",
      "Moviepy - Building video ./resized_videos/IMG_0291.MOV.\n",
      "MoviePy - Writing audio in IMG_0291TEMP_MPY_wvf_snd.mp4\n"
     ]
    },
    {
     "name": "stderr",
     "output_type": "stream",
     "text": [
      "                                                                    \r"
     ]
    },
    {
     "name": "stdout",
     "output_type": "stream",
     "text": [
      "MoviePy - Done.\n",
      "Moviepy - Writing video ./resized_videos/IMG_0291.MOV\n",
      "\n"
     ]
    },
    {
     "name": "stderr",
     "output_type": "stream",
     "text": [
      "                                                                \r"
     ]
    },
    {
     "name": "stdout",
     "output_type": "stream",
     "text": [
      "Moviepy - Done !\n",
      "Moviepy - video ready ./resized_videos/IMG_0291.MOV\n",
      "Moviepy - Building video ./resized_videos/IMG_0275.MOV.\n",
      "MoviePy - Writing audio in IMG_0275TEMP_MPY_wvf_snd.mp4\n"
     ]
    },
    {
     "name": "stderr",
     "output_type": "stream",
     "text": [
      "                                                                    \r"
     ]
    },
    {
     "name": "stdout",
     "output_type": "stream",
     "text": [
      "MoviePy - Done.\n",
      "Moviepy - Writing video ./resized_videos/IMG_0275.MOV\n",
      "\n"
     ]
    },
    {
     "name": "stderr",
     "output_type": "stream",
     "text": [
      "                                                              \r"
     ]
    },
    {
     "name": "stdout",
     "output_type": "stream",
     "text": [
      "Moviepy - Done !\n",
      "Moviepy - video ready ./resized_videos/IMG_0275.MOV\n",
      "Moviepy - Building video ./resized_videos/IMG_0274.MOV.\n",
      "MoviePy - Writing audio in IMG_0274TEMP_MPY_wvf_snd.mp4\n"
     ]
    },
    {
     "name": "stderr",
     "output_type": "stream",
     "text": [
      "                                                                    \r"
     ]
    },
    {
     "name": "stdout",
     "output_type": "stream",
     "text": [
      "MoviePy - Done.\n",
      "Moviepy - Writing video ./resized_videos/IMG_0274.MOV\n",
      "\n"
     ]
    },
    {
     "name": "stderr",
     "output_type": "stream",
     "text": [
      "                                                              \r"
     ]
    },
    {
     "name": "stdout",
     "output_type": "stream",
     "text": [
      "Moviepy - Done !\n",
      "Moviepy - video ready ./resized_videos/IMG_0274.MOV\n",
      "Moviepy - Building video ./resized_videos/IMG_0276.MOV.\n",
      "MoviePy - Writing audio in IMG_0276TEMP_MPY_wvf_snd.mp4\n"
     ]
    },
    {
     "name": "stderr",
     "output_type": "stream",
     "text": [
      "                                                                  \r"
     ]
    },
    {
     "name": "stdout",
     "output_type": "stream",
     "text": [
      "MoviePy - Done.\n",
      "Moviepy - Writing video ./resized_videos/IMG_0276.MOV\n",
      "\n"
     ]
    },
    {
     "name": "stderr",
     "output_type": "stream",
     "text": [
      "                                                              \r"
     ]
    },
    {
     "name": "stdout",
     "output_type": "stream",
     "text": [
      "Moviepy - Done !\n",
      "Moviepy - video ready ./resized_videos/IMG_0276.MOV\n",
      "Moviepy - Building video ./resized_videos/IMG_0273.MOV.\n",
      "MoviePy - Writing audio in IMG_0273TEMP_MPY_wvf_snd.mp4\n"
     ]
    },
    {
     "name": "stderr",
     "output_type": "stream",
     "text": [
      "                                                                    \r"
     ]
    },
    {
     "name": "stdout",
     "output_type": "stream",
     "text": [
      "MoviePy - Done.\n",
      "Moviepy - Writing video ./resized_videos/IMG_0273.MOV\n",
      "\n"
     ]
    },
    {
     "name": "stderr",
     "output_type": "stream",
     "text": [
      "                                                              \r"
     ]
    },
    {
     "name": "stdout",
     "output_type": "stream",
     "text": [
      "Moviepy - Done !\n",
      "Moviepy - video ready ./resized_videos/IMG_0273.MOV\n",
      "Moviepy - Building video ./resized_videos/IMG_7907.MOV.\n",
      "MoviePy - Writing audio in IMG_7907TEMP_MPY_wvf_snd.mp4\n"
     ]
    },
    {
     "name": "stderr",
     "output_type": "stream",
     "text": [
      "                                                                   \r"
     ]
    },
    {
     "name": "stdout",
     "output_type": "stream",
     "text": [
      "MoviePy - Done.\n",
      "Moviepy - Writing video ./resized_videos/IMG_7907.MOV\n",
      "\n"
     ]
    },
    {
     "name": "stderr",
     "output_type": "stream",
     "text": [
      "                                                                \r"
     ]
    },
    {
     "name": "stdout",
     "output_type": "stream",
     "text": [
      "Moviepy - Done !\n",
      "Moviepy - video ready ./resized_videos/IMG_7907.MOV\n"
     ]
    }
   ],
   "source": [
    "from moviepy.editor import VideoFileClip\n",
    "import os\n",
    "\n",
    "\n",
    "def resize_video(input_path, output_path, target_resolution=(320,480)):\n",
    "    \"\"\"\n",
    "    Resizes and compresses a video maintaining its aspect ratio.\n",
    "    \n",
    "    Parameters:\n",
    "        - input_path (str): Path to the original video.\n",
    "        - output_path (str): Path to save the resized video.\n",
    "        - target_resolution (tuple): Desired resolution (width, height).\n",
    "    \"\"\"\n",
    "    with VideoFileClip(input_path) as clip:\n",
    "        # Resize the video maintaining aspect ratio\n",
    "        resized_clip = clip.resize(newsize=target_resolution)\n",
    "        resized_clip.write_videofile(output_path, bitrate=\"1M\", codec=\"libx264\", audio_codec=\"aac\")\n",
    "\n",
    "# Paths\n",
    "video_dir = './videos'\n",
    "resized_video_dir = './resized_videos'\n",
    "\n",
    "# Create resized_videos folder if it doesn't exist\n",
    "if not os.path.exists(resized_video_dir):\n",
    "    os.makedirs(resized_video_dir)\n",
    "\n",
    "# Loop through all videos in the videos folder\n",
    "for video_file in os.listdir(video_dir):\n",
    "    if video_file.endswith(('.MOV')): \n",
    "        input_path = os.path.join(video_dir, video_file)\n",
    "        output_path = os.path.join(resized_video_dir, video_file)\n",
    "        resize_video(input_path, output_path)"
   ]
  },
  {
   "cell_type": "code",
   "execution_count": null,
   "metadata": {},
   "outputs": [],
   "source": []
  }
 ],
 "metadata": {
  "kernelspec": {
   "display_name": "base",
   "language": "python",
   "name": "python3"
  },
  "language_info": {
   "codemirror_mode": {
    "name": "ipython",
    "version": 3
   },
   "file_extension": ".py",
   "mimetype": "text/x-python",
   "name": "python",
   "nbconvert_exporter": "python",
   "pygments_lexer": "ipython3",
   "version": "3.9.12"
  },
  "orig_nbformat": 4
 },
 "nbformat": 4,
 "nbformat_minor": 2
}
